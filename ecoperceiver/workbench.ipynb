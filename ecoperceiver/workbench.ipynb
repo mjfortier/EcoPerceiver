{
 "cells": [
  {
   "cell_type": "code",
   "execution_count": null,
   "id": "37b493f0",
   "metadata": {},
   "outputs": [],
   "source": [
    "from dataset import EcoPerceiverLoaderConfig, EcoPerceiverDataset\n",
    "import torch\n",
    "import numpy as np\n",
    "import time\n",
    "from tqdm import tqdm\n",
    "import sqlite3\n",
    "from torch.utils.data import DataLoader\n",
    "from model import EcoSage\n",
    "from components import EcoSageConfig\n",
    "from torch.optim import adamw"
   ]
  },
  {
   "cell_type": "code",
   "execution_count": null,
   "id": "d33134f7",
   "metadata": {},
   "outputs": [],
   "source": [
    "sites = ['US-Whs', 'CA-Gro', 'DE-Geb', 'CN-Din']\n",
    "config = EcoPerceiverLoaderConfig(context_window_length=64, targets=['NEE'])\n",
    "ds = EcoPerceiverDataset('/data/fluxes/carbonsense_v2', config)\n",
    "dl = DataLoader(ds, batch_size=64, shuffle=True, collate_fn=ds.collate_fn, num_workers=8)"
   ]
  },
  {
   "cell_type": "code",
   "execution_count": null,
   "id": "10966622",
   "metadata": {},
   "outputs": [],
   "source": [
    "config = EcoSageConfig()\n",
    "model = EcoSage(config)\n",
    "device = 'cuda' if torch.cuda.is_available() else 'cpu'\n",
    "model.to(device)\n",
    "optim = adamw.AdamW(params=model.parameters(), lr=3e-4)\n",
    "print('Model created successfully')"
   ]
  },
  {
   "cell_type": "code",
   "execution_count": null,
   "id": "847b93aa",
   "metadata": {},
   "outputs": [],
   "source": [
    "losses = []\n",
    "for i, batch in enumerate(tqdm(dl)):\n",
    "    optim.zero_grad()\n",
    "    op, loss = model(batch)\n",
    "    losses.append(loss.item())\n",
    "    loss.backward()\n",
    "    optim.step()\n",
    "    if i == 100000:\n",
    "        break"
   ]
  },
  {
   "cell_type": "code",
   "execution_count": null,
   "id": "8d8805f8",
   "metadata": {},
   "outputs": [],
   "source": [
    "model(batch, debug=True)"
   ]
  },
  {
   "cell_type": "code",
   "execution_count": null,
   "id": "3d0606a9",
   "metadata": {},
   "outputs": [],
   "source": [
    "# with sqlite3.connect('/data/fluxes/carbonsense_v2/carbonsense_v2.sql') as conn:\n",
    "#     res =conn.execute('SELECT DISTINCT(igbp) FROM site_data;').fetchall()\n",
    "# [r[0] for r in res]"
   ]
  }
 ],
 "metadata": {
  "kernelspec": {
   "display_name": "scratch",
   "language": "python",
   "name": "python3"
  },
  "language_info": {
   "codemirror_mode": {
    "name": "ipython",
    "version": 3
   },
   "file_extension": ".py",
   "mimetype": "text/x-python",
   "name": "python",
   "nbconvert_exporter": "python",
   "pygments_lexer": "ipython3",
   "version": "3.9.18"
  }
 },
 "nbformat": 4,
 "nbformat_minor": 5
}
